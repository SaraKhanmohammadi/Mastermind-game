{
 "cells": [
  {
   "cell_type": "code",
   "execution_count": null,
   "id": "20b76c48-3c91-4d0c-a805-77d646520cd1",
   "metadata": {},
   "outputs": [],
   "source": [
    "from numpy import random\n",
    "\n",
    "def getinput():\n",
    "    a = input()\n",
    "    b = list(a)\n",
    "    Guess = []\n",
    "    for letter in (b):\n",
    "        Guess.append(int(letter))\n",
    "    return Guess\n",
    "    \n",
    "\n",
    "cc = 0 #Correct color\n",
    "cp = 0 #C0rrect position \n",
    "cnt = 0 # Correct number of test\n",
    "Win = 0\n",
    "Max_Guess = 5\n",
    "arr = [1, 2, 3, 4,5, 6]\n",
    "Password = random.permutation(arr)\n",
    "Password = Password[2:]\n",
    "while (cnt <= Max_Guess):\n",
    "\n",
    "    cc = 0\n",
    "    cp = 0\n",
    "    Guess = getinput()\n",
    "    for i in range(0, 4):\n",
    "        if Password[i] == Guess[i]:\n",
    "            cc +=1\n",
    "        \n",
    "    for i in range (0, 4):\n",
    "        for j in range (0, 4):\n",
    "            if Password[i] == Guess[j]:\n",
    "                cc += 1 \n",
    "\n",
    "    cnt += 1\n",
    "    cc = cc - cp\n",
    "\n",
    "    if (cp == 4):\n",
    "        Win = 1\n",
    "        print(\"You Win!!!\")\n",
    "        break\n",
    "    else:\n",
    "        print (f' cc is {cc} and cp is {cp}')\n",
    "\n",
    "if (Win == 0):\n",
    "    print('Game over!!! Password:\\n', *Password, Password)\n",
    "\n",
    "    "
   ]
  },
  {
   "cell_type": "code",
   "execution_count": null,
   "id": "17c630be-d149-4700-a635-e9cadbd825c4",
   "metadata": {},
   "outputs": [],
   "source": []
  }
 ],
 "metadata": {
  "kernelspec": {
   "display_name": "Python [conda env:base] *",
   "language": "python",
   "name": "conda-base-py"
  },
  "language_info": {
   "codemirror_mode": {
    "name": "ipython",
    "version": 3
   },
   "file_extension": ".py",
   "mimetype": "text/x-python",
   "name": "python",
   "nbconvert_exporter": "python",
   "pygments_lexer": "ipython3",
   "version": "3.12.7"
  }
 },
 "nbformat": 4,
 "nbformat_minor": 5
}
